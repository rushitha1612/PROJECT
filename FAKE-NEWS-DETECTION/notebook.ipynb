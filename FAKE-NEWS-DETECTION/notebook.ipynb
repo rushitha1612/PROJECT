{
 "cells": [
  {
   "cell_type": "code",
   "execution_count": 2,
   "id": "9f9a67e0",
   "metadata": {},
   "outputs": [],
   "source": [
    "import pandas as pd\n",
    "fake = pd.read_csv(\"Fake.csv\")\n",
    "real = pd.read_csv(\"True.csv\")"
   ]
  },
  {
   "cell_type": "code",
   "execution_count": 3,
   "id": "b64c3106",
   "metadata": {},
   "outputs": [],
   "source": [
    "fake[\"label\"] = 0   # 0 = Fake\n",
    "real[\"label\"] = 1   # 1 = Real"
   ]
  },
  {
   "cell_type": "code",
   "execution_count": 4,
   "id": "bc21d150",
   "metadata": {},
   "outputs": [
    {
     "name": "stdout",
     "output_type": "stream",
     "text": [
      "                                               title  \\\n",
      "0  Attorney General Sessions to talk publicly to ...   \n",
      "1  Russia and China discuss coordination on North...   \n",
      "2  HOUSE DEMOCRATS MAKE STUNNING Move To Implemen...   \n",
      "3  REPUBLICAN TURNS TABLES ON FBI: Deputy Directo...   \n",
      "4  Britain joins U.S. in blaming North Korea for ...   \n",
      "\n",
      "                                                text          subject  \\\n",
      "0  WASHINGTON (Reuters) - U.S. Attorney General J...     politicsNews   \n",
      "1  MOSCOW (Reuters) - The Russian Foreign Ministr...        worldnews   \n",
      "2  While US citizens are outraged over the remova...         politics   \n",
      "3   GCHQ director Robert Hannigan is stepping dow...  Government News   \n",
      "4  LONDON (Reuters) - Britain said North Korea wa...        worldnews   \n",
      "\n",
      "                 date  label  \n",
      "0      June 11, 2017       1  \n",
      "1  December 13, 2017       1  \n",
      "2         Jan 1, 2016      0  \n",
      "3         Apr 2, 2017      0  \n",
      "4  December 19, 2017       1  \n"
     ]
    }
   ],
   "source": [
    "data = pd.concat([fake, real], axis=0)\n",
    "data = data.sample(frac=1).reset_index(drop=True)\n",
    "print(data.head())"
   ]
  },
  {
   "cell_type": "code",
   "execution_count": 5,
   "id": "716b5a3a",
   "metadata": {},
   "outputs": [
    {
     "name": "stderr",
     "output_type": "stream",
     "text": [
      "[nltk_data] Downloading package stopwords to\n",
      "[nltk_data]     C:\\Users\\ADMIN\\AppData\\Roaming\\nltk_data...\n",
      "[nltk_data]   Package stopwords is already up-to-date!\n",
      "[nltk_data] Downloading package punkt to\n",
      "[nltk_data]     C:\\Users\\ADMIN\\AppData\\Roaming\\nltk_data...\n",
      "[nltk_data]   Package punkt is already up-to-date!\n"
     ]
    },
    {
     "data": {
      "text/plain": [
       "True"
      ]
     },
     "execution_count": 5,
     "metadata": {},
     "output_type": "execute_result"
    }
   ],
   "source": [
    "import nltk\n",
    "nltk.download('stopwords')\n",
    "nltk.download('punkt')"
   ]
  },
  {
   "cell_type": "code",
   "execution_count": 6,
   "id": "9a4f611d",
   "metadata": {},
   "outputs": [
    {
     "name": "stdout",
     "output_type": "stream",
     "text": [
      "0    washington reuters us attorney general jeff se...\n",
      "1    moscow reuters russian foreign ministry said w...\n",
      "2    us citizens outraged removal christ pretty muc...\n",
      "3    gchq director robert hannigan stepping two yea...\n",
      "4    london reuters britain said north korea behind...\n",
      "Name: text, dtype: object\n"
     ]
    }
   ],
   "source": [
    "import string\n",
    "from nltk.corpus import stopwords\n",
    "from nltk.tokenize import word_tokenize\n",
    "stop_words = set(stopwords.words(\"english\"))\n",
    "def clean_text(text):\n",
    "    text = text.lower()\n",
    "    text = text.translate(str.maketrans('', '', string.punctuation))\n",
    "    words = word_tokenize(text)\n",
    "    filtered_words = [word for word in words if word not in stop_words]\n",
    "    return \" \".join(filtered_words)\n",
    "data['text'] = data['text'].apply(clean_text)\n",
    "print(data['text'].head())"
   ]
  },
  {
   "cell_type": "code",
   "execution_count": 7,
   "id": "241dfd5a",
   "metadata": {},
   "outputs": [],
   "source": [
    "from sklearn.feature_extraction.text import TfidfVectorizer\n",
    "tfidf = TfidfVectorizer(max_features=5000)\n",
    "X = tfidf.fit_transform(data['text'])\n",
    "y = data['label']"
   ]
  },
  {
   "cell_type": "code",
   "execution_count": 8,
   "id": "845e91a7",
   "metadata": {},
   "outputs": [],
   "source": [
    "from sklearn.model_selection import train_test_split\n",
    "X_train, X_test, y_train, y_test = train_test_split(X, y, test_size=0.2, random_state=42)"
   ]
  },
  {
   "cell_type": "code",
   "execution_count": 9,
   "id": "828f4aa8",
   "metadata": {},
   "outputs": [],
   "source": [
    "from sklearn.naive_bayes import MultinomialNB\n",
    "from sklearn.metrics import accuracy_score, classification_report, confusion_matrix\n",
    "model = MultinomialNB()\n",
    "model.fit(X_train, y_train)\n",
    "y_pred = model.predict(X_test)"
   ]
  },
  {
   "cell_type": "code",
   "execution_count": 10,
   "id": "52a331aa",
   "metadata": {},
   "outputs": [
    {
     "name": "stdout",
     "output_type": "stream",
     "text": [
      "Accuracy: 0.9298440979955457\n",
      "\n",
      "Classification Report:\n",
      "               precision    recall  f1-score   support\n",
      "\n",
      "           0       0.93      0.94      0.93      4715\n",
      "           1       0.93      0.92      0.93      4265\n",
      "\n",
      "    accuracy                           0.93      8980\n",
      "   macro avg       0.93      0.93      0.93      8980\n",
      "weighted avg       0.93      0.93      0.93      8980\n",
      "\n",
      "\n",
      "Confusion Matrix:\n",
      " [[4416  299]\n",
      " [ 331 3934]]\n"
     ]
    }
   ],
   "source": [
    "print(\"Accuracy:\", accuracy_score(y_test, y_pred))\n",
    "print(\"\\nClassification Report:\\n\", classification_report(y_test, y_pred))\n",
    "print(\"\\nConfusion Matrix:\\n\", confusion_matrix(y_test, y_pred))"
   ]
  },
  {
   "cell_type": "code",
   "execution_count": 11,
   "id": "5ac33190",
   "metadata": {},
   "outputs": [
    {
     "data": {
      "text/plain": [
       "['tfidf_vectorizer.pkl']"
      ]
     },
     "execution_count": 11,
     "metadata": {},
     "output_type": "execute_result"
    }
   ],
   "source": [
    "import joblib\n",
    "joblib.dump(model, 'fake_news_model.pkl')\n",
    "joblib.dump(tfidf, 'tfidf_vectorizer.pkl')"
   ]
  }
 ],
 "metadata": {
  "kernelspec": {
   "display_name": "Python 3 (ipykernel)",
   "language": "python",
   "name": "python3"
  },
  "language_info": {
   "codemirror_mode": {
    "name": "ipython",
    "version": 3
   },
   "file_extension": ".py",
   "mimetype": "text/x-python",
   "name": "python",
   "nbconvert_exporter": "python",
   "pygments_lexer": "ipython3",
   "version": "3.11.5"
  }
 },
 "nbformat": 4,
 "nbformat_minor": 5
}
